{
  "nbformat": 4,
  "nbformat_minor": 0,
  "metadata": {
    "colab": {
      "provenance": [],
      "authorship_tag": "ABX9TyPBwamydix7YTcmtM+tcfbb",
      "include_colab_link": true
    },
    "kernelspec": {
      "name": "python3",
      "display_name": "Python 3"
    },
    "language_info": {
      "name": "python"
    }
  },
  "cells": [
    {
      "cell_type": "markdown",
      "metadata": {
        "id": "view-in-github",
        "colab_type": "text"
      },
      "source": [
        "<a href=\"https://colab.research.google.com/github/Leni-Nikitaa/RA2111047010045_Factwise_BE/blob/main/RA2111047010045_Factwise_BE.ipynb\" target=\"_parent\"><img src=\"https://colab.research.google.com/assets/colab-badge.svg\" alt=\"Open In Colab\"/></a>"
      ]
    },
    {
      "cell_type": "markdown",
      "source": [
        "6.If the numbers to are written out in words: one, two, three, four, five, then there are 3 + 3 + 5 + 4 + 4 = 19 letters used in total.\n",
        "\n",
        "If all the numbers from 1 to 1000 (one thousand) inclusive were written out in words, how many letters would be used?\n",
        "\n",
        "\n",
        "NOTE: Do not count spaces or hyphens. For example, 342 (three hundred and forty-two) contains 23 letters and 115 (one hundred and fifteen contains 20 letters. The use of \"and\" when writing out numbers is in compliance with British usage.\n"
      ],
      "metadata": {
        "id": "OHactbCv973l"
      }
    },
    {
      "cell_type": "code",
      "execution_count": 24,
      "metadata": {
        "colab": {
          "base_uri": "https://localhost:8080/",
          "height": 0
        },
        "id": "ei8Nrc2oxi3X",
        "outputId": "08cb0254-9565-4f92-dd97-ec4b964a27ad"
      },
      "outputs": [
        {
          "output_type": "stream",
          "name": "stdout",
          "text": [
            "21224\n"
          ]
        }
      ],
      "source": [
        "#6\n",
        "\n",
        "\n",
        "def numbers(n):\n",
        "  ones=[\"\",\"one\",\"two\",\"three\",\"four\",\"five\",\"six\",\"seven\",\"eight\",\"nine\",\"ten\",\"eleven\",\"twelve\",\"thirteen\",\"founteen\",\"fifteen\",\"sixteen\",\"seventeen\",\"eighteen\",\"nineteen\"]\n",
        "  tens=[\"\",\"\",\"twenty\",\"thirty\",\"fourty\",\"fifty\",\"sixty\",\"seventy\",\"eighty\",\"ninety\"]\n",
        "  thounsands=[\"\",\"thousand\"]\n",
        "  if n==0:\n",
        "    return \"zero\"\n",
        "  if n<20:\n",
        "    return ones[n]\n",
        "  elif n<100:\n",
        "    return tens[n//10]+ones[n%10]\n",
        "  elif n<1000:\n",
        "    if n%100==0:\n",
        "      return ones[n//100]+\"hundred\"\n",
        "    else:\n",
        "      return ones[n//100]+\"hundredand\"+numbers(n%100)\n",
        "  else:\n",
        "    return \"onethousand\"\n",
        "total_words=sum(len(numbers(i)) for i in range (1,1001))\n",
        "print(total_words)"
      ]
    },
    {
      "cell_type": "markdown",
      "source": [
        "7.\n",
        "There are several cards arranged in a row, and each card has an associated number of points. The points are given in the integer array cardPoints.\n",
        "\n",
        "In one step, you can take one card from the beginning or from the end of the row. You have to take exactly k cards.\n",
        "\n",
        "Your score is the sum of the points of the cards you have taken.\n",
        "\n",
        "Given the integer array cardPoints and the integer k, return the maximum score you can obtain.\n",
        "\n",
        "Example 1:\n",
        "Input: cardPoints = [1,2,3,4,5,6,1], k = 3\n",
        "Output: 12\n",
        "\n",
        "Example 2:\n",
        "Input: cardPoints = [2,2,2], k = 2\n",
        "Output: 4\n",
        "\n",
        "Example 3:\n",
        "Input: cardPoints = [9,7,7,9,7,7,9], k = 7\n",
        "Output: 55\n",
        "\n"
      ],
      "metadata": {
        "id": "0ZZpHIaE903L"
      }
    },
    {
      "cell_type": "code",
      "source": [
        "#7\n",
        "\n",
        "\n",
        "def max(cardPoints,k):\n",
        "  n=len(cardPoints)\n",
        "  total_sum=sum(cardPoints)\n",
        "  window_size=n-k\n",
        "  window_sum=sum(cardPoints[:window_size])\n",
        "  min_window_sum=window_sum\n",
        "\n",
        "  for i in range(1,n-window_size+1):\n",
        "    window_sum=window_sum-cardPoints[i-1]+cardPoints[i+window_size-1]\n",
        "    min_window_sum=min(min_window_sum,window_sum)\n",
        "  return total_sum-min_window_sum\n",
        "\n",
        "#getting input from user\n",
        "cardPoints=list(map(int,input().strip().split()))\n",
        "k=int(input())\n",
        "#provide n spaced integers for the array\n",
        "print(max(cardPoints,k))"
      ],
      "metadata": {
        "colab": {
          "base_uri": "https://localhost:8080/",
          "height": 0
        },
        "id": "Nx-8TaD327eo",
        "outputId": "bc24213b-7934-484b-bd0e-dc3fc1957350"
      },
      "execution_count": 18,
      "outputs": [
        {
          "output_type": "stream",
          "name": "stdout",
          "text": [
            "9 7 7 9 7 7 9\n",
            "7\n",
            "55\n"
          ]
        }
      ]
    }
  ]
}